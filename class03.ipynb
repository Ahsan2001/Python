{
 "cells": [
  {
   "cell_type": "markdown",
   "id": "57b4f9f5-7525-4120-b4b8-322d45554258",
   "metadata": {},
   "source": [
    "### Lesson 1  print"
   ]
  },
  {
   "cell_type": "code",
   "execution_count": 41,
   "id": "0bd484cf-ccba-4fa0-9a7d-55e89339c875",
   "metadata": {},
   "outputs": [
    {
     "name": "stdout",
     "output_type": "stream",
     "text": [
      "hello ahsan\n"
     ]
    }
   ],
   "source": [
    "print(\"hello ahsan\")"
   ]
  },
  {
   "cell_type": "markdown",
   "id": "3ae50fe5-ef4c-442c-a3f4-cf0e5be6b7e4",
   "metadata": {},
   "source": [
    "### Lesson 2  Variables for Strings"
   ]
  },
  {
   "cell_type": "code",
   "execution_count": 40,
   "id": "05ca0d72-afbd-4da3-b8cf-f19ca35dde82",
   "metadata": {},
   "outputs": [
    {
     "name": "stdout",
     "output_type": "stream",
     "text": [
      "Umer\n"
     ]
    }
   ],
   "source": [
    "name = \"Ahsan\"\n",
    "name = \"Umer\" # it overwrite the value\n",
    "print(name)"
   ]
  },
  {
   "cell_type": "markdown",
   "id": "a32fa3be-8753-42bb-b6fe-dc80fcb1703f",
   "metadata": {},
   "source": [
    "### Lesson 3  Variables for Numbers"
   ]
  },
  {
   "cell_type": "code",
   "execution_count": 39,
   "id": "9e179f08-1b17-41f8-a875-5b37d4d89631",
   "metadata": {},
   "outputs": [
    {
     "name": "stdout",
     "output_type": "stream",
     "text": [
      "12\n"
     ]
    }
   ],
   "source": [
    "name = 12 # Also change the  type\n",
    "print(name)"
   ]
  },
  {
   "cell_type": "markdown",
   "id": "5f32e4ba-9dca-441c-886b-90142c312e41",
   "metadata": {},
   "source": [
    "### Lesson 4  Math expressions: Familiar operators"
   ]
  },
  {
   "cell_type": "code",
   "execution_count": 38,
   "id": "8f453310-158f-4636-83b9-685212a9d783",
   "metadata": {},
   "outputs": [
    {
     "name": "stdout",
     "output_type": "stream",
     "text": [
      "30\n",
      "-10\n",
      "200\n",
      "0.5\n"
     ]
    }
   ],
   "source": [
    "num1 = 10\n",
    "num2 = 20\n",
    "print(num1 + num2) # 30\n",
    "print(num1 - num2) # -10\n",
    "print(num1 * num2) # 200\n",
    "print(num1 / num2) # 0.5"
   ]
  },
  {
   "cell_type": "markdown",
   "id": "88c2660f-9788-4465-ae7d-11e7b195f7eb",
   "metadata": {},
   "source": [
    "### Lesson 5  Variable Names Legal and Illegal"
   ]
  },
  {
   "cell_type": "code",
   "execution_count": 37,
   "id": "5e08622a-424e-431e-8ef0-9647f6fa3fbd",
   "metadata": {},
   "outputs": [
    {
     "name": "stdout",
     "output_type": "stream",
     "text": [
      "50 50 50\n"
     ]
    }
   ],
   "source": [
    "#### we don't use the keyword as a variable name \n",
    "numberOFTotalStudents = 50       # camel case ==> recommended\n",
    "number_oF_total_students = 50    # snake case\n",
    "NumberOfTotalStudents = 50       # pascal case\n",
    "\n",
    "print(numberOFTotalStudents, number_oF_total_students,NumberOfTotalStudents)"
   ]
  },
  {
   "cell_type": "markdown",
   "id": "9d14b321-27f4-4c98-8747-8558609dd388",
   "metadata": {},
   "source": [
    "### Lesson 6   Math expressions: Unfamiliar operators"
   ]
  },
  {
   "cell_type": "code",
   "execution_count": 36,
   "id": "61ae3dc1-2e77-4392-acc5-979dce48c145",
   "metadata": {},
   "outputs": [
    {
     "name": "stdout",
     "output_type": "stream",
     "text": [
      "1\n",
      "57\n"
     ]
    }
   ],
   "source": [
    "whats_left_over = 10 % 3\n",
    "print(whats_left_over) \n",
    "\n",
    "age = 20\n",
    "age += 1        # age = age + 1\n",
    "age -= 2        # age = age - 2\n",
    "age *= 3        # age = age * 3\n",
    "\n",
    "print(age)"
   ]
  },
  {
   "cell_type": "markdown",
   "id": "b0ca8e29-8c6b-4312-91b9-20426e94be40",
   "metadata": {},
   "source": [
    "### Lesson 7 Math expressions: Eliminating ambiguity"
   ]
  },
  {
   "cell_type": "code",
   "execution_count": 35,
   "id": "b2d88e01-e9fd-459f-9bf3-90b92fa368b1",
   "metadata": {},
   "outputs": [],
   "source": [
    "total_cost = ( 1 + 3) * 4\n",
    "result_of_computation = ((2 * 4) * 4) + 2 "
   ]
  },
  {
   "cell_type": "markdown",
   "id": "58ff85e6-ae66-4877-98d3-88614c6928aa",
   "metadata": {},
   "source": [
    "### Lesson 8  Concatenating text strings"
   ]
  },
  {
   "cell_type": "code",
   "execution_count": 34,
   "id": "3f1b62ab-a665-4520-a645-12f12292fef3",
   "metadata": {},
   "outputs": [
    {
     "name": "stdout",
     "output_type": "stream",
     "text": [
      "Ahsan Shaikh\n",
      "Ahsan Shaikh \n",
      "My name is Ahsan Shaikh and I am 22 years old.\n"
     ]
    }
   ],
   "source": [
    "f_name = \"Ahsan\"\n",
    "l_name = \"Shaikh\"\n",
    "\n",
    "print(f_name + \" \" + l_name)\n",
    "print(f\"{f_name} {l_name} \")  \n",
    "\n",
    "age = 22\n",
    "message = \"My name is {0} {1} and I am {2} years old.\".format(f_name,l_name, age)\n",
    "print(message)\n"
   ]
  }
 ],
 "metadata": {
  "kernelspec": {
   "display_name": "Python 3 (ipykernel)",
   "language": "python",
   "name": "python3"
  },
  "language_info": {
   "codemirror_mode": {
    "name": "ipython",
    "version": 3
   },
   "file_extension": ".py",
   "mimetype": "text/x-python",
   "name": "python",
   "nbconvert_exporter": "python",
   "pygments_lexer": "ipython3",
   "version": "3.11.7"
  }
 },
 "nbformat": 4,
 "nbformat_minor": 5
}
