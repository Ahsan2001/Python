{
 "cells": [
  {
   "cell_type": "markdown",
   "metadata": {},
   "source": [
    "# Part -1 Python Basics (Variables)"
   ]
  },
  {
   "cell_type": "markdown",
   "metadata": {},
   "source": [
    "1. Print Your Name with your Father name and Date of birth using suitable escape sequence charactor"
   ]
  },
  {
   "cell_type": "code",
   "execution_count": 1,
   "metadata": {},
   "outputs": [
    {
     "name": "stdout",
     "output_type": "stream",
     "text": [
      "Name: Muhammad Ahsan  \n",
      "Father Name: Muhammad Sabir  \n",
      "Date of Birth: 21-Auguest-2001\n"
     ]
    }
   ],
   "source": [
    "print(f\"Name: Muhammad Ahsan  \\nFather Name: Muhammad Sabir  \\nDate of Birth: 21-Auguest-2001\")"
   ]
  },
  {
   "cell_type": "markdown",
   "metadata": {},
   "source": [
    "2. Write your small bio using variables and print it using print function"
   ]
  },
  {
   "cell_type": "code",
   "execution_count": 2,
   "metadata": {},
   "outputs": [
    {
     "name": "stdout",
     "output_type": "stream",
     "text": [
      "I am a CS student and aspire to be a data engineer.\n"
     ]
    }
   ],
   "source": [
    "bio = \"I am a CS student and aspire to be a data engineer.\"\n",
    "print(bio)"
   ]
  },
  {
   "cell_type": "markdown",
   "metadata": {},
   "source": [
    "3. Write a program in which use all the operators we can use in Python"
   ]
  },
  {
   "cell_type": "code",
   "execution_count": 3,
   "metadata": {},
   "outputs": [
    {
     "name": "stdout",
     "output_type": "stream",
     "text": [
      "a = 20 \n",
      "b = 10 \n",
      "\n",
      "a + b = 30 \n",
      "a - b = 10 \n",
      "a * b = 200 \n",
      "a / b = 2.0 \n",
      "a % b = 0 \n",
      "a ** b = 10240000000000 \n",
      "a // b = 2 \n"
     ]
    }
   ],
   "source": [
    "a = 20\n",
    "b = 10\n",
    "print(\"a = 20 \\nb = 10 \\n\")\n",
    "\n",
    "print(f\"a + b = {a + b} \\n\"\n",
    "      f\"a - b = {a - b} \\n\"\n",
    "      f\"a * b = {a * b} \\n\"\n",
    "      f\"a / b = {a / b} \\n\"\n",
    "      f\"a % b = {a % b} \\n\"\n",
    "      f\"a ** b = {a ** b} \\n\"\n",
    "      f\"a // b = {a // b} \")"
   ]
  },
  {
   "cell_type": "markdown",
   "metadata": {},
   "source": [
    "4. Completes the following steps of small task:\n",
    "    - Mention Marks of English , Islamiat and Maths out of 100 in 3 different variables\n",
    "    - Mention Variable of Total Marks and assign 300 to it\n",
    "    - Calculate Percentage"
   ]
  },
  {
   "cell_type": "code",
   "execution_count": 4,
   "metadata": {},
   "outputs": [
    {
     "name": "stdout",
     "output_type": "stream",
     "text": [
      "Percentage is 90.33\n"
     ]
    }
   ],
   "source": [
    "english = 90\n",
    "islamiat = 85\n",
    "maths = 96\n",
    "totalMarks = 300\n",
    "percentage = ( (english + islamiat + maths) / totalMarks ) * 100\n",
    "print(f\"Percentage is {round(percentage, 2)}\") # Round off to two decimal values\n"
   ]
  },
  {
   "cell_type": "markdown",
   "metadata": {},
   "source": [
    "# Part -2 Python Basics (Conditional Statements)"
   ]
  },
  {
   "cell_type": "markdown",
   "metadata": {},
   "source": [
    "1) A company decided to give bonus of 5% to employee if his/her year of service is more than 5 years.\n",
    "Ask user for their salary and year of service and print the net bonus amount."
   ]
  },
  {
   "cell_type": "code",
   "execution_count": 5,
   "metadata": {},
   "outputs": [
    {
     "name": "stdin",
     "output_type": "stream",
     "text": [
      "Enter your Salary 6000\n",
      "Enter your service year 7\n"
     ]
    },
    {
     "name": "stdout",
     "output_type": "stream",
     "text": [
      "Your bonus is 300.0\n"
     ]
    }
   ],
   "source": [
    "userSalary = float(input(\"Enter your Salary\"))\n",
    "userServiceYear = int(input(\"Enter your service year\"))\n",
    "if (userServiceYear > 5):\n",
    "    salaryBonus = (userSalary * 5 ) / 100\n",
    "    print(f\"Your bonus is {round(salaryBonus, 2)}\")\n",
    "else: \n",
    "    print(\"You are not eligible for bonus\")\n"
   ]
  },
  {
   "cell_type": "markdown",
   "metadata": {},
   "source": [
    "\n",
    "2) Write a program to check whether a person is eligible for voting or not. (accept age from user) if age is greater than 17 eligible otherwise not eligible"
   ]
  },
  {
   "cell_type": "code",
   "execution_count": 7,
   "metadata": {},
   "outputs": [
    {
     "name": "stdin",
     "output_type": "stream",
     "text": [
      "Enter your age 90\n"
     ]
    },
    {
     "name": "stdout",
     "output_type": "stream",
     "text": [
      "you are eligible for voting\n"
     ]
    }
   ],
   "source": [
    "userAge = int(input(\"Enter your age\"))\n",
    "if (userAge > 17):\n",
    "    print(\"you are eligible for voting\")\n",
    "else:\n",
    "    print(\"you are not eligible for voting\")"
   ]
  },
  {
   "cell_type": "markdown",
   "metadata": {},
   "source": [
    "\n",
    "3) Write a program to check whether a number entered by user is even or odd."
   ]
  },
  {
   "cell_type": "code",
   "execution_count": null,
   "metadata": {},
   "outputs": [],
   "source": [
    "userInput = int(input(\"Enter No to check it is even or odd\"))\n",
    "if (userInput % 2 == 0):\n",
    "    print(f\"{userInput} is even number\")\n",
    "else:\n",
    "    print(f\"{userInput} is odd number\")\n"
   ]
  },
  {
   "cell_type": "markdown",
   "metadata": {},
   "source": [
    "4) Write a program to check whether a number is divisible by 7 or not.\n",
    "Show Answer"
   ]
  },
  {
   "cell_type": "code",
   "execution_count": null,
   "metadata": {},
   "outputs": [],
   "source": [
    "userInput = int(input(\"Enter No\"))\n",
    "if (userInput % 7 == 0):\n",
    "    print(f\"{userInput} is divisible\")\n",
    "else:\n",
    "    print(f\"{userInput} not divisible\")"
   ]
  },
  {
   "cell_type": "markdown",
   "metadata": {},
   "source": [
    "5) Write a program to display \n",
    "\"Hello\" if a number entered by user is a multiple of five , otherwise print \"Bye\"."
   ]
  },
  {
   "cell_type": "code",
   "execution_count": null,
   "metadata": {},
   "outputs": [],
   "source": [
    "userInput = int(input(\"Enter No\"))\n",
    "if (userInput % 5 == 0):\n",
    "    print(\"Hello\")\n",
    "else:\n",
    "    print(\"Bye\")"
   ]
  },
  {
   "cell_type": "markdown",
   "metadata": {},
   "source": [
    "7) Write a program to display the last digit of a number.\n"
   ]
  },
  {
   "cell_type": "code",
   "execution_count": null,
   "metadata": {},
   "outputs": [],
   "source": [
    "userInput = input(\"Enter No\") \n",
    "print(userInput[-1])\n"
   ]
  },
  {
   "cell_type": "markdown",
   "metadata": {},
   "source": [
    "9) Take values of length and breadth of a rectangle from user and print if it is square or rectangle."
   ]
  },
  {
   "cell_type": "code",
   "execution_count": null,
   "metadata": {},
   "outputs": [],
   "source": [
    "length = int(input(\"Enter length\"))\n",
    "breadth = int(input(\"Enter breadth\"))\n",
    "\n",
    "if (length == breadth):\n",
    "    print(\"it is square\")\n",
    "else:\n",
    "    print(\"it is rectangle\")\n"
   ]
  },
  {
   "cell_type": "markdown",
   "metadata": {},
   "source": [
    "10) Take two int values from user and print greatest among them."
   ]
  },
  {
   "cell_type": "code",
   "execution_count": null,
   "metadata": {},
   "outputs": [],
   "source": [
    "val_1 = int(input(\"Enter first value\"))\n",
    "val_2 = int(input(\"Enter second value\"))\n",
    "\n",
    "if (val_1 > val_2 ):\n",
    "    print(f\"{val_1} is greater No\")\n",
    "elif (val_1 == val_2):\n",
    "    print(\"both is equal\")\n",
    "else: \n",
    " print(f\"{val_2} is greater No\")"
   ]
  },
  {
   "cell_type": "markdown",
   "metadata": {},
   "source": [
    "11) A shop will give discount of 10% if the cost of purchased quantity is more than 1000.\n",
    "Ask user for quantity\n",
    "Suppose, one unit will cost 100.\n",
    "Judge and print total cost for user.\n"
   ]
  },
  {
   "cell_type": "code",
   "execution_count": null,
   "metadata": {},
   "outputs": [],
   "source": [
    "userInput = int(input(\"Enter quantity: \"))\n",
    "totalItemPurchasedCost = userInput * 100\n",
    "\n",
    "if (totalItemPurchasedCost > 1000):\n",
    "    discountCostSubtracted = totalItemPurchasedCost * 0.1\n",
    "    totalCost = totalItemPurchasedCost - discountCostSubtracted\n",
    "    print(f\"Your total bill is {totalCost} after a 10% discount\")\n",
    "else:\n",
    "    print(f\"Your  total bill is {totalItemPurchasedCost}\")\n"
   ]
  },
  {
   "cell_type": "markdown",
   "metadata": {},
   "source": [
    "12) A school has following rules for grading system:\n",
    "\n",
    "a. Below 25 - F\n",
    "\n",
    "b. 25 to 45 - E\n",
    "\n",
    "c. 45 to 50 - D\n",
    "\n",
    "d. 50 to 60 - C\n",
    "\n",
    "e. 60 to 80 - B\n",
    "\n",
    "f. Above 80 - A\n",
    "\n",
    "Ask user to enter marks and print the corresponding grade."
   ]
  },
  {
   "cell_type": "code",
   "execution_count": null,
   "metadata": {},
   "outputs": [],
   "source": [
    "studentMarks = int(input(\"Enter Marks: \"))\n",
    "\n",
    "if studentMarks < 25:\n",
    "    grade = \"F\"\n",
    "elif studentMarks >= 25 and studentMarks < 45:\n",
    "    grade = \"E\"\n",
    "elif studentMarks >= 45 and studentMarks < 50:\n",
    "    grade = \"D\"\n",
    "elif studentMarks >= 50 and studentMarks < 60:\n",
    "    grade = \"C\"\n",
    "elif studentMarks >= 60 and studentMarks < 80:\n",
    "    grade = \"B\"\n",
    "else:\n",
    "    grade = \"A\"\n",
    "\n",
    "print(\"Your Grade is :\", grade)"
   ]
  },
  {
   "cell_type": "markdown",
   "metadata": {},
   "source": [
    "14)A student will not be allowed to sit in exam if his/her attendence is less than 75%.\n",
    "\n",
    "Take following input from user\n",
    "\n",
    "- Number of classes held\n",
    "\n",
    "- Number of classes attended.\n",
    "\n",
    "And print\n",
    "\n",
    "- percentage of class attended\n",
    "\n",
    "- Is student is allowed to sit in exam or not.\n"
   ]
  },
  {
   "cell_type": "code",
   "execution_count": null,
   "metadata": {},
   "outputs": [],
   "source": [
    "totalClassHeld = int(input(\"Enter the  classes no: \"))\n",
    "totalClassAttend = int(input(\"Enter the  attended classes no: \"))\n",
    "\n",
    "totalAttendance = (totalClassAttend / totalClassHeld) * 100\n",
    "\n",
    "if (totalAttendance >= 75):\n",
    "    print(f\"your attendence is {totalAttendance} \\nyou are allowed to sit in the exam.\")\n",
    "else:\n",
    "    print(f\"your attendence is {totalAttendance} \\nyou are not allowed to sit in the exam.\")\n"
   ]
  },
  {
   "cell_type": "markdown",
   "metadata": {},
   "source": [
    "15) Modify the above question to allow student to sit if he/she has medical cause. Ask user if he/she has medical cause or not ( 'Y' or 'N' ) and print accordingly."
   ]
  },
  {
   "cell_type": "code",
   "execution_count": null,
   "metadata": {},
   "outputs": [],
   "source": [
    "totalClassHeld = int(input(\"Enter the number of classes held: \"))\n",
    "totalClassAttend = int(input(\"Enter the number of classes attended: \"))\n",
    "medicalCause = input(\"Do you have a medical cause? ('Y' or 'N'): \")\n",
    "\n",
    "totalAttendance = (totalClassAttend / totalClassHeld) * 100\n",
    "\n",
    "if totalAttendance >= 75:\n",
    "    print(f\"Your attendance is {totalAttendance}%\\nYou are allowed to sit in the exam.\")\n",
    "elif totalAttendance < 75 and (medicalCause == \"Y\" or medicalCause == \"y\"):\n",
    "    print(f\"Your attendance is {totalAttendance}%\\nYou have a medical cause\\nYou are allowed to sit in the exam.\")\n",
    "else:\n",
    "    print(f\"Your attendance is {totalAttendance}%\\nYou have no medical cause\\nYou are not allowed to sit in the exam.\")"
   ]
  },
  {
   "cell_type": "markdown",
   "metadata": {},
   "source": [
    "16) Write a program to check if a year is leap year or not.\n",
    "\n",
    "If a year is divisible by 4 then it is leap year but if the year is century year like 2000, 1900, 2100 then it must be divisible by 400."
   ]
  },
  {
   "cell_type": "code",
   "execution_count": null,
   "metadata": {},
   "outputs": [],
   "source": [
    "year = int(input(\"Enter a year: \"))\n",
    "\n",
    "if ((year % 4 == 0) or (year % 400 == 0)):\n",
    "   print(f\"{year} is a leap year.\")\n",
    "else:\n",
    "    print(f\"{year} is not a leap year.\")"
   ]
  },
  {
   "cell_type": "markdown",
   "metadata": {},
   "source": [
    "17) Ask user to enter age, gender ( M or F ), marital status ( Y or N ) and then using following rules print their place of service.\n",
    "\n",
    "if employee is female, then she will work only in urban areas.\n",
    "\n",
    "if employee is a male and age is in between 20 to 40 then he may work in anywhere\n",
    "\n",
    "if employee is male and age is in between 40 t0 60 then he will work in urban areas only.\n",
    "\n",
    "And any other input of age should print \"ERROR\""
   ]
  },
  {
   "cell_type": "code",
   "execution_count": 10,
   "metadata": {},
   "outputs": [
    {
     "name": "stdin",
     "output_type": "stream",
     "text": [
      "Enter your age:  78\n",
      "Enter your gender (M or F):  f\n",
      "Are you married (Y or N):  n\n"
     ]
    },
    {
     "name": "stdout",
     "output_type": "stream",
     "text": [
      "You will work only in urban areas.\n"
     ]
    }
   ],
   "source": [
    "age = int(input(\"Enter your age: \"))\n",
    "gender = input(\"Enter your gender (M or F): \")\n",
    "marital_status = input(\"Are you married (Y or N): \")\n",
    "\n",
    "if ((gender == \"f\") or (gender == \"F\")):\n",
    "    print(\"You will work only in urban areas.\")\n",
    "    \n",
    "elif ((gender == \"m\" or gender == \"M\") and (age >= 20 and age <= 40)):\n",
    "     print(\"You can work in anywhere\")\n",
    "\n",
    "elif ((gender == \"m\" or gender == \"M\") and (age >= 40 and age <= 60)):\n",
    "     print(\"You will work only in urban areas\")\n",
    "\n",
    "else:\n",
    "     print(\"ERROR\")\n"
   ]
  },
  {
   "cell_type": "markdown",
   "metadata": {},
   "source": [
    "6) Write a program to calculate the electricity bill (accept number of unit from user) according to the following criteria :\n",
    "     Unit                                                     Price  \n",
    "uptp 100 units                                             no charge\n",
    "Next 200 units                                              Rs 5 per unit\n",
    "After 200 units                                             Rs 10 per unit\n",
    "(For example if input unit is 350 than total bill amount is Rs.3500\n",
    "(For example if input unit is 97 than total bill amount is Rs.0\n",
    "(For example if input unit is 150 than total bill amount is Rs.750"
   ]
  },
  {
   "cell_type": "code",
   "execution_count": 13,
   "metadata": {},
   "outputs": [
    {
     "name": "stdin",
     "output_type": "stream",
     "text": [
      "Enter the number of units:  210\n"
     ]
    },
    {
     "name": "stdout",
     "output_type": "stream",
     "text": [
      "The total bill amount is Rs. 2100\n"
     ]
    }
   ],
   "source": [
    "units = int(input(\"Enter the number of units: \"))\n",
    "total_bill = 0\n",
    "\n",
    "if (units <= 100):\n",
    "    total_bill = 0\n",
    "elif (units >= 101 and units <= 200):\n",
    "    total_bill = units * 5\n",
    "elif (units > 200):\n",
    "    total_bill = units * 10\n",
    "\n",
    "print(f\"The total bill amount is Rs. {total_bill}\")"
   ]
  },
  {
   "cell_type": "markdown",
   "metadata": {},
   "source": [
    "13) Take input of age of 3 people by user and determine oldest and youngest among them."
   ]
  },
  {
   "cell_type": "code",
   "execution_count": 18,
   "metadata": {},
   "outputs": [
    {
     "name": "stdin",
     "output_type": "stream",
     "text": [
      "Enter the age of person 1:  10\n",
      "Enter the age of person 2:  20\n",
      "Enter the age of person 3:  30\n"
     ]
    },
    {
     "name": "stdout",
     "output_type": "stream",
     "text": [
      "10 is youngest\n",
      "30 is greatest\n"
     ]
    }
   ],
   "source": [
    "user1 = int(input(\"Enter the age of person 1: \"))\n",
    "user2 = int(input(\"Enter the age of person 2: \"))\n",
    "user3 = int(input(\"Enter the age of person 3: \"))\n",
    "\n",
    "if(user1 < (user2 and user3) ):\n",
    "  print(f\"{user1} is youngest\")\n",
    "    \n",
    "elif(user2 < (user1 and user3)):\n",
    "  print(f\"{user2} is youngest\")\n",
    "    \n",
    "elif(user3 < (user1 and user2)):\n",
    "  print(f\"{user3} is youngest\")\n",
    "\n",
    "\n",
    "\n",
    "\n",
    "if(user1 > (user2 and user3) ):\n",
    "  print(f\"{user1} is greatest\")\n",
    "    \n",
    "elif(user2 > (user1 and user3)):\n",
    "  print(f\"{user2} is greatest\")\n",
    "    \n",
    "elif(user3 > (user1 and user2)):\n",
    "  print(f\"{user3} is greatest\")\n",
    "\n",
    "\n",
    "    \n"
   ]
  },
  {
   "cell_type": "code",
   "execution_count": null,
   "metadata": {},
   "outputs": [],
   "source": []
  }
 ],
 "metadata": {
  "kernelspec": {
   "display_name": "Python 3 (ipykernel)",
   "language": "python",
   "name": "python3"
  },
  "language_info": {
   "codemirror_mode": {
    "name": "ipython",
    "version": 3
   },
   "file_extension": ".py",
   "mimetype": "text/x-python",
   "name": "python",
   "nbconvert_exporter": "python",
   "pygments_lexer": "ipython3",
   "version": "3.11.7"
  }
 },
 "nbformat": 4,
 "nbformat_minor": 4
}
