{
 "cells": [
  {
   "cell_type": "code",
   "execution_count": 4,
   "id": "b310a9a9-8682-4a7e-90a4-f1c1c9c956fc",
   "metadata": {},
   "outputs": [
    {
     "name": "stdout",
     "output_type": "stream",
     "text": [
      "car name is  Audi\n"
     ]
    }
   ],
   "source": [
    "vehical = \"Audi\"\n",
    "\n",
    "if vehical == \"Audi\":\n",
    "   print(f\"car name is  {vehical}\")\n",
    "elif vehical == \"Alto\":\n",
    "   print(f\"car name is  {vehical}\")\n",
    "elif vehical == \"Mehran\":\n",
    "   print(f\"car name is  {vehical}\")\n",
    "else :\n",
    "    print(\"not match\")\n",
    "    "
   ]
  }
 ],
 "metadata": {
  "kernelspec": {
   "display_name": "Python 3 (ipykernel)",
   "language": "python",
   "name": "python3"
  },
  "language_info": {
   "codemirror_mode": {
    "name": "ipython",
    "version": 3
   },
   "file_extension": ".py",
   "mimetype": "text/x-python",
   "name": "python",
   "nbconvert_exporter": "python",
   "pygments_lexer": "ipython3",
   "version": "3.11.7"
  }
 },
 "nbformat": 4,
 "nbformat_minor": 5
}
