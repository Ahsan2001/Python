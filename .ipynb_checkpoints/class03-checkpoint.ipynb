{
 "cells": [
  {
   "cell_type": "code",
   "execution_count": 1,
   "id": "bca952a3-2219-4ec8-90b3-77545175f5dc",
   "metadata": {},
   "outputs": [
    {
     "name": "stdout",
     "output_type": "stream",
     "text": [
      "hello ahsan\n"
     ]
    }
   ],
   "source": [
    "# lesson 1 \n",
    "print(\"hello ahsan\")"
   ]
  },
  {
   "cell_type": "code",
   "execution_count": 10,
   "id": "80c2ab20-da9e-4d4b-903b-66725ac30a63",
   "metadata": {},
   "outputs": [
    {
     "name": "stdout",
     "output_type": "stream",
     "text": [
      "Umer\n"
     ]
    }
   ],
   "source": [
    "# Lesson 2\n",
    "name = \"Ahsan\"\n",
    "name = \"Umer\" # it overwrite the value\n",
    "print(name)\n"
   ]
  },
  {
   "cell_type": "code",
   "execution_count": 11,
   "id": "fd89ed3c-9526-404e-afe9-8f21140ad7f4",
   "metadata": {},
   "outputs": [
    {
     "name": "stdout",
     "output_type": "stream",
     "text": [
      "12\n"
     ]
    }
   ],
   "source": [
    "# Lesson 3 \n",
    "name = 12 # Also change the  type\n",
    "print(name)\n"
   ]
  },
  {
   "cell_type": "code",
   "execution_count": 15,
   "id": "da603599-ed2f-4868-aa77-aae51cf98032",
   "metadata": {},
   "outputs": [
    {
     "name": "stdout",
     "output_type": "stream",
     "text": [
      "30\n",
      "-10\n",
      "200\n",
      "0.5\n"
     ]
    }
   ],
   "source": [
    "# Lesson 4 \n",
    "num1 = 10\n",
    "num2 = 20\n",
    "print(num1 + num2) # 30\n",
    "print(num1 - num2) # -10\n",
    "print(num1 * num2) # 200\n",
    "print(num1 / num2) # 0.5"
   ]
  },
  {
   "cell_type": "code",
   "execution_count": 18,
   "id": "03167f04-a818-4ce9-b8de-330d6684d1db",
   "metadata": {},
   "outputs": [
    {
     "name": "stdout",
     "output_type": "stream",
     "text": [
      "50 50 50\n"
     ]
    }
   ],
   "source": [
    "# Lesson 5\n",
    "# we don't use the keyword as a variable name \n",
    "numberOFTotalStudents = 50       # camel case ==> recommended\n",
    "number_oF_total_students = 50    # snake case\n",
    "NumberOfTotalStudents = 50       # pascal case\n",
    "\n",
    "print(numberOFTotalStudents, number_oF_total_students,NumberOfTotalStudents)\n"
   ]
  }
 ],
 "metadata": {
  "kernelspec": {
   "display_name": "Python 3 (ipykernel)",
   "language": "python",
   "name": "python3"
  },
  "language_info": {
   "codemirror_mode": {
    "name": "ipython",
    "version": 3
   },
   "file_extension": ".py",
   "mimetype": "text/x-python",
   "name": "python",
   "nbconvert_exporter": "python",
   "pygments_lexer": "ipython3",
   "version": "3.11.7"
  }
 },
 "nbformat": 4,
 "nbformat_minor": 5
}
